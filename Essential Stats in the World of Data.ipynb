{
 "cells": [
  {
   "cell_type": "markdown",
   "id": "72ce42c1",
   "metadata": {},
   "source": [
    "# Five Number Summary in Python"
   ]
  },
  {
   "cell_type": "code",
   "execution_count": null,
   "id": "97281fce",
   "metadata": {},
   "outputs": [],
   "source": [
    "import numpy as np\n",
    "import pandas as pd\n",
    "import matplotlib.pyplot as plt\n",
    "%matplotlib inline\n",
    "import seaborn as sns"
   ]
  },
  {
   "cell_type": "code",
   "execution_count": 59,
   "id": "a7157ff9",
   "metadata": {},
   "outputs": [],
   "source": [
    "## Define our dataset\n",
    "dataset= [11,10,12,14,12,15,14,13,15,102,12,14,17,19,107, 10,13,12,14,12,108,12,11,14,13,15,10,15,12,10,14,13,15,10]"
   ]
  },
  {
   "cell_type": "code",
   "execution_count": 60,
   "id": "ee9a76c7",
   "metadata": {},
   "outputs": [
    {
     "name": "stdout",
     "output_type": "stream",
     "text": [
      "                0\n",
      "count   34.000000\n",
      "mean    21.176471\n",
      "std     26.768899\n",
      "min     10.000000\n",
      "25%     12.000000\n",
      "50%     13.000000\n",
      "75%     15.000000\n",
      "max    108.000000\n"
     ]
    }
   ],
   "source": [
    "df = pd.DataFrame(dataset)\n",
    "desc = df.describe()\n",
    "print(desc)"
   ]
  },
  {
   "cell_type": "code",
   "execution_count": 61,
   "id": "f476c259",
   "metadata": {},
   "outputs": [
    {
     "name": "stdout",
     "output_type": "stream",
     "text": [
      "12.0 13.0 15.0\n"
     ]
    }
   ],
   "source": [
    "Q1, Q2, Q3 = np.percentile(dataset, [25, 50, 75])\n",
    "print(Q1, Q2, Q3)"
   ]
  },
  {
   "cell_type": "code",
   "execution_count": 62,
   "id": "b29d948c",
   "metadata": {},
   "outputs": [
    {
     "name": "stdout",
     "output_type": "stream",
     "text": [
      "10 108\n"
     ]
    }
   ],
   "source": [
    "data_min, data_max = np.min(dataset), np.max(dataset)\n",
    "print(data_min,data_max)"
   ]
  },
  {
   "cell_type": "markdown",
   "id": "4292ed37",
   "metadata": {},
   "source": [
    "# Visual Representation of Five Number Summary - Boxplot"
   ]
  },
  {
   "cell_type": "markdown",
   "id": "d7123c77",
   "metadata": {},
   "source": [
    "A boxplot is a visual representation of a five number summary"
   ]
  },
  {
   "cell_type": "code",
   "execution_count": 63,
   "id": "52f1d761",
   "metadata": {},
   "outputs": [
    {
     "name": "stderr",
     "output_type": "stream",
     "text": [
      "C:\\Apps\\Python37\\lib\\site-packages\\seaborn\\_decorators.py:43: FutureWarning: Pass the following variable as a keyword arg: x. From version 0.12, the only valid positional argument will be `data`, and passing other arguments without an explicit keyword will result in an error or misinterpretation.\n",
      "  FutureWarning\n"
     ]
    },
    {
     "data": {
      "text/plain": [
       "<matplotlib.axes._subplots.AxesSubplot at 0x22237e8bf98>"
      ]
     },
     "execution_count": 63,
     "metadata": {},
     "output_type": "execute_result"
    },
    {
     "data": {
      "image/png": "[encoded data removed]",
      "text/plain": [
       "<Figure size 432x288 with 1 Axes>"
      ]
     },
     "metadata": {
      "needs_background": "light"
     },
     "output_type": "display_data"
    }
   ],
   "source": [
    "sns.boxplot(dataset)"
   ]
  },
  {
   "cell_type": "markdown",
   "id": "7141f26c",
   "metadata": {},
   "source": [
    "# Detecting outliers in datsaet\n",
    "1) Outliers are clearly seen in the boxplot\n",
    "2) When it comes to outliers, we remove everything that isn't between a lower fence and an upper fence\n",
    "3) That is:\n",
    "a) Sort the data\n",
    "b) Calculate Q1 aqnd Q3\n",
    "c) IQR = (Q3-Q1)\n",
    "d) Find the Lower fence = Q1-1.5(IQR)\n",
    "e) Find the upper fence = Q3+1.5(IQR)"
   ]
  },
  {
   "cell_type": "code",
   "execution_count": 64,
   "id": "101e1b64",
   "metadata": {},
   "outputs": [
    {
     "name": "stdout",
     "output_type": "stream",
     "text": [
      "7.5 19.5\n"
     ]
    }
   ],
   "source": [
    "IQR = Q3 - Q1\n",
    "lower_fence = Q1 - (1.5 * IQR)\n",
    "upper_fence = Q3 + (1.5 * IQR)\n",
    "print(lower_fence, upper_fence)"
   ]
  },
  {
   "cell_type": "markdown",
   "id": "16f0f989",
   "metadata": {},
   "source": [
    "Clearly 102 and 107 are the outliers as shown in the boxplot and they do not lie between lower and upper fence"
   ]
  }
 ],
 "metadata": {
  "kernelspec": {
   "display_name": "Python 3 (ipykernel)",
   "language": "python",
   "name": "python3"
  },
  "language_info": {
   "codemirror_mode": {
    "name": "ipython",
    "version": 3
   },
   "file_extension": ".py",
   "mimetype": "text/x-python",
   "name": "python",
   "nbconvert_exporter": "python",
   "pygments_lexer": "ipython3",
   "version": "3.7.1"
  }
 },
 "nbformat": 4,
 "nbformat_minor": 5
}
